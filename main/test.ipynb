{
 "cells": [
  {
   "cell_type": "code",
   "execution_count": 6,
   "metadata": {},
   "outputs": [],
   "source": [
    "import numpy as np\n",
    "from matplotlib import pyplot as plt\n",
    "from sklearn.cluster import KMeans\n",
    "import itertools\n",
    "import copy\n",
    "\n",
    "from load_user_data import load_user_data\n",
    "from load_driver_data import load_driver_data, load_matrix_drivers\n",
    "import caculate"
   ]
  },
  {
   "cell_type": "code",
   "execution_count": 2,
   "metadata": {},
   "outputs": [],
   "source": [
    "class officer(object):\n",
    "    def __init__(self):\n",
    "        self.type = \"\"\n",
    "    def update_map(self):\n",
    "        self.the_maps = caculate.kmeans(self.users)\n",
    "    def update_users(self):\n",
    "        self.users = load_user_data()\n",
    "        self.users_backup = copy.deepcopy(self.users)\n",
    "    def update_drivers(self):\n",
    "        self.drivers = load_driver_data()\n",
    "        self.sites_count = sorted([i[\"sites\"] for i in self.drivers])\n",
    "        if (self.type == 'send'):\n",
    "            self.matrix_drivers = load_matrix_drivers(self.users)\n",
    "        self.drivers_backup = copy.deepcopy(self.drivers)"
   ]
  },
  {
   "cell_type": "code",
   "execution_count": 3,
   "metadata": {},
   "outputs": [],
   "source": [
    "debug = True\n",
    "max_distance = 0.12  # 2km\n",
    "pdw = officer()\n",
    "pdw.type = 'take'\n",
    "pdw.update_users()\n",
    "pdw.update_drivers()"
   ]
  },
  {
   "cell_type": "code",
   "execution_count": 18,
   "metadata": {},
   "outputs": [
    {
     "output_type": "stream",
     "name": "stdout",
     "text": "Wall time: 2.15 s\n"
    }
   ],
   "source": [
    "%%time\n",
    "\n",
    "user_combinations = itertools.combinations(pdw.users[:50], 4)\n",
    "user_msd = [caculate.mean_square_difference(i) for i in user_combinations]\n"
   ]
  }
 ],
 "metadata": {
  "language_info": {
   "codemirror_mode": {
    "name": "ipython",
    "version": 3
   },
   "file_extension": ".py",
   "mimetype": "text/x-python",
   "name": "python",
   "nbconvert_exporter": "python",
   "pygments_lexer": "ipython3",
   "version": "3.7.4-final"
  },
  "orig_nbformat": 2,
  "kernelspec": {
   "name": "python37464bitf6eff9138b8b45c38d1a338360ad0f1a",
   "display_name": "Python 3.7.4 64-bit"
  }
 },
 "nbformat": 4,
 "nbformat_minor": 2
}